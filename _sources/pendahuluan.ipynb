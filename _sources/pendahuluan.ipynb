{
 "cells": [
  {
   "cell_type": "markdown",
   "metadata": {},
   "source": [
    "Nama   : Nur Holis\n",
    "\n",
    "NIM    : 220411100098\n",
    "\n",
    "Matkul : Proyek Sains Data"
   ]
  },
  {
   "cell_type": "markdown",
   "metadata": {},
   "source": [
    "**Tugas Pendahuluan**"
   ]
  },
  {
   "cell_type": "markdown",
   "metadata": {},
   "source": [
    "Judul  : Analisis Prediksi Biaya Asuransi"
   ]
  },
  {
   "cell_type": "markdown",
   "metadata": {},
   "source": [
    "**1. Pendahuluan**"
   ]
  },
  {
   "cell_type": "markdown",
   "metadata": {},
   "source": [
    "**1.1 Latar Belakang Proyek**"
   ]
  },
  {
   "cell_type": "markdown",
   "metadata": {},
   "source": [
    "Industri asuransi kesehatan merupakan salah satu lini yang bergantung pada data sebagai acuan untuk menentukan premi yang sesuai bagi setiap pemegang polis. Dengan meningkatnya keberagaman data dan kebutuhan untuk prediksi yang akurat, penerapan teknik sains data akan menjadi penting. Prediksi biaya asuransi (charges) yang akurat memastikan bahwa premi yang dikenakan itu bisa adil. Variabel-variabel seperti usia, jenis kelamin, BMI, jumlah anak, kebiasaan merokok, dan wilayah tempat tinggal menjadi faktor utama yang berpengaruh pada biaya asuransi. Oleh karena itu, analisis menggunakan metode statistik dan machine learning diperlukan untuk memahami dan memprediksi biaya asuransi dengan lebih baik."
   ]
  },
  {
   "cell_type": "markdown",
   "metadata": {},
   "source": [
    "**1.2 Tujuan**"
   ]
  },
  {
   "cell_type": "markdown",
   "metadata": {},
   "source": [
    "Tujuan utama dari analisis ini adalah untuk membangun model prediktif yang dapat memperkirakan biaya asuransi kesehatan (charges) yang didasarkan pada profil pemegang polis."
   ]
  },
  {
   "cell_type": "markdown",
   "metadata": {},
   "source": [
    "**1.3 Pernyataan Masalah**"
   ]
  },
  {
   "cell_type": "markdown",
   "metadata": {},
   "source": [
    "Perusahaan asuransi memiliki tantangan yang besar dalam menentukan premi yang tepat dan adil untuk para pemegang polis. Penentuan premi yang tidak tepat dan akurat dapat mengakibatkan kehilangan pelanggan serta kerugian finansial bagi perusahaan. Oleh sebab itu, pengembangan model prediktif yang bisa memperkirakan biaya asuransi yang tepat dan akurat berdasarkan karakteristik pemegang polis sangat dibutuhkan. Tantangann dalam proyek ini adalah bagaimana mengoptimalkan penggunaan variabel-variabel seperti usia, jenis kelamin, BMI, jumlah anak, kebiasaan merokok, dan wilayah dalam memprediksi biaya asuransi secara efektif dan akurat."
   ]
  }
 ],
 "metadata": {
  "kernelspec": {
   "display_name": "Python 3",
   "language": "python",
   "name": "python3"
  },
  "language_info": {
   "codemirror_mode": {
    "name": "ipython",
    "version": 3
   },
   "file_extension": ".py",
   "mimetype": "text/x-python",
   "name": "python",
   "nbconvert_exporter": "python",
   "pygments_lexer": "ipython3",
   "version": "3.8.0"
  },
  "widgets": {
   "application/vnd.jupyter.widget-state+json": {
    "state": {},
    "version_major": 2,
    "version_minor": 0
   }
  }
 },
 "nbformat": 4,
 "nbformat_minor": 4
}
